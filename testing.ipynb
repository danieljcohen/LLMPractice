{
 "cells": [
  {
   "cell_type": "markdown",
   "id": "4b459b9a-caaa-4be2-8fdd-1e1a6fe71c60",
   "metadata": {},
   "source": [
    "# Creating a Character Level Language Model"
   ]
  },
  {
   "cell_type": "markdown",
   "id": "95562c02-b26f-4d7b-879b-38637f47a696",
   "metadata": {},
   "source": [
    "Downloading Dataset"
   ]
  },
  {
   "cell_type": "code",
   "execution_count": 3,
   "id": "e2ce1e3b-c7c7-488f-acb6-b3fe00dfda9f",
   "metadata": {},
   "outputs": [
    {
     "name": "stdout",
     "output_type": "stream",
     "text": [
      "--2024-06-30 12:30:56--  https://raw.githubusercontent.com/karpathy/char-rnn/master/data/tinyshakespeare/input.txt\n",
      "Resolving raw.githubusercontent.com (raw.githubusercontent.com)... 185.199.111.133, 185.199.109.133, 185.199.110.133, ...\n",
      "Connecting to raw.githubusercontent.com (raw.githubusercontent.com)|185.199.111.133|:443... connected.\n",
      "HTTP request sent, awaiting response... 200 OK\n",
      "Length: 1115394 (1.1M) [text/plain]\n",
      "Saving to: ‘input.txt.2’\n",
      "\n",
      "input.txt.2         100%[===================>]   1.06M  --.-KB/s    in 0.07s   \n",
      "\n",
      "2024-06-30 12:30:56 (15.9 MB/s) - ‘input.txt.2’ saved [1115394/1115394]\n",
      "\n"
     ]
    }
   ],
   "source": [
    "!wget https://raw.githubusercontent.com/karpathy/char-rnn/master/data/tinyshakespeare/input.txt"
   ]
  },
  {
   "cell_type": "markdown",
   "id": "8a08acb8-5d39-4679-9a07-488e1a845752",
   "metadata": {},
   "source": [
    "Reading dataset"
   ]
  },
  {
   "cell_type": "code",
   "execution_count": 4,
   "id": "d0bc5720-af14-4453-8e94-72f2574a622b",
   "metadata": {},
   "outputs": [],
   "source": [
    "with open('input.txt', 'r', encoding = 'utf-8') as file:\n",
    "    text = file.read()"
   ]
  },
  {
   "cell_type": "code",
   "execution_count": 5,
   "id": "1c9d7477-5d01-4119-836d-d1b4896bc8ec",
   "metadata": {},
   "outputs": [
    {
     "name": "stdout",
     "output_type": "stream",
     "text": [
      "Length of dataset(chars): 1115394 \n",
      "\n",
      "First Citizen:\n",
      "Before we proceed any further, hear me speak.\n",
      "\n",
      "All:\n",
      "Speak, speak.\n",
      "\n",
      "First Citizen:\n",
      "You are all resolved rather to die than to famish?\n",
      "\n",
      "All:\n",
      "Resolved. resolved.\n",
      "\n",
      "First Citizen:\n",
      "First, you know Caius Marcius is chief enemy to the people.\n",
      "\n",
      "All:\n",
      "We know't, we know't.\n",
      "\n",
      "First Citizen:\n",
      "Let us kill him, and we'll have corn at our own price.\n",
      "Is't a verdict?\n",
      "\n",
      "All:\n",
      "No more talking on't; let it be done: away, away!\n",
      "\n",
      "Second Citizen:\n",
      "One word, good citizens.\n",
      "\n",
      "First Citizen:\n",
      "We are accounted poor citizens, the patricians good.\n",
      "What authority surfeits on would relieve us: if they\n",
      "would yield us but the superfluity, while it were\n",
      "wholesome, we might guess they relieved us humanely;\n",
      "but they think we are too dear: the leanness that\n",
      "afflicts us, the object of our misery, is as an\n",
      "inventory to particularise their abundance; our\n",
      "sufferance is a gain to them Let us revenge this with\n",
      "our pikes, ere we become rakes: for the gods know I\n",
      "speak this in hunger for bread, not in thirst for revenge.\n",
      "\n",
      "\n"
     ]
    }
   ],
   "source": [
    "print(f\"Length of dataset(chars): {len(text)} \\n\")\n",
    "print(text[:1000])"
   ]
  },
  {
   "cell_type": "markdown",
   "id": "4341740e-9df3-41dc-97bb-ebda5b06927a",
   "metadata": {},
   "source": [
    "Taking unique chars in text"
   ]
  },
  {
   "cell_type": "code",
   "execution_count": 6,
   "id": "4262dbd1-4875-48e2-ac96-7392dcd9d951",
   "metadata": {},
   "outputs": [
    {
     "name": "stdout",
     "output_type": "stream",
     "text": [
      "\n",
      " !$&',-.3:;?ABCDEFGHIJKLMNOPQRSTUVWXYZabcdefghijklmnopqrstuvwxyz\n",
      "65\n"
     ]
    }
   ],
   "source": [
    "chars = sorted(set(text))\n",
    "vocabSize = len(chars)\n",
    "print(''.join(chars))\n",
    "print(vocabSize)"
   ]
  },
  {
   "cell_type": "markdown",
   "id": "3313bffc-2cf7-4a1f-907b-f765cd9118dc",
   "metadata": {},
   "source": [
    "Mapping from chars to ints"
   ]
  },
  {
   "cell_type": "markdown",
   "id": "ddf33099-f560-4a49-8493-bec70213ba0a",
   "metadata": {},
   "source": [
    "# When redoing, do with google SentencePiece or openAI tiktoken\n",
    "\n",
    "subword, unit level tokenizer (not individual chars but not full word)"
   ]
  },
  {
   "cell_type": "code",
   "execution_count": 7,
   "id": "5ea388ea-f1c4-4368-843f-87f6136249f7",
   "metadata": {},
   "outputs": [],
   "source": [
    "stoi = {ch:i for i, ch in enumerate(chars)}  #dict mapping all chars to their ascii vals\n",
    "itos = {i:ch for i, ch in enumerate(chars)}  #dict mapping all ascii vals(ints) to their chars\n",
    "encode = lambda s: [stoi[c] for c in s] #lambda func encoder --> string to list of ints\n",
    "decode = lambda l: ''.join([itos[i] for i in l]) #decoder --> list of ints to str"
   ]
  },
  {
   "cell_type": "code",
   "execution_count": 8,
   "id": "d9c3116c-6617-40f5-9b04-ce2b57228d84",
   "metadata": {},
   "outputs": [
    {
     "name": "stdout",
     "output_type": "stream",
     "text": [
      "[46, 43, 50, 50, 53, 1, 61, 53, 56, 50, 42]\n",
      "hello world\n"
     ]
    }
   ],
   "source": [
    "print(encode(\"hello world\"))\n",
    "print(decode(encode(\"hello world\")))"
   ]
  },
  {
   "cell_type": "code",
   "execution_count": 9,
   "id": "3ba71f71-c06f-41b3-a37f-fcabf57dc229",
   "metadata": {},
   "outputs": [
    {
     "name": "stdout",
     "output_type": "stream",
     "text": [
      "Requirement already satisfied: torch in /Users/danielcohen/miniconda3/lib/python3.11/site-packages (2.3.0)\n",
      "Requirement already satisfied: filelock in /Users/danielcohen/miniconda3/lib/python3.11/site-packages (from torch) (3.14.0)\n",
      "Requirement already satisfied: typing-extensions>=4.8.0 in /Users/danielcohen/miniconda3/lib/python3.11/site-packages (from torch) (4.10.0)\n",
      "Requirement already satisfied: sympy in /Users/danielcohen/miniconda3/lib/python3.11/site-packages (from torch) (1.12)\n",
      "Requirement already satisfied: networkx in /Users/danielcohen/miniconda3/lib/python3.11/site-packages (from torch) (3.2.1)\n",
      "Requirement already satisfied: jinja2 in /Users/danielcohen/miniconda3/lib/python3.11/site-packages (from torch) (3.1.3)\n",
      "Requirement already satisfied: fsspec in /Users/danielcohen/miniconda3/lib/python3.11/site-packages (from torch) (2024.5.0)\n",
      "Requirement already satisfied: MarkupSafe>=2.0 in /Users/danielcohen/miniconda3/lib/python3.11/site-packages (from jinja2->torch) (2.1.5)\n",
      "Requirement already satisfied: mpmath>=0.19 in /Users/danielcohen/miniconda3/lib/python3.11/site-packages (from sympy->torch) (1.3.0)\n"
     ]
    }
   ],
   "source": [
    "!pip install torch"
   ]
  },
  {
   "cell_type": "code",
   "execution_count": 10,
   "id": "246e7c94-32ec-45c3-a9e8-7a0ed94b89c0",
   "metadata": {},
   "outputs": [
    {
     "name": "stdout",
     "output_type": "stream",
     "text": [
      "torch.Size([1115394]) torch.int64\n",
      "tensor([18, 47, 56, 57, 58,  1, 15, 47, 58, 47, 64, 43, 52, 10,  0, 14, 43, 44,\n",
      "        53, 56, 43,  1, 61, 43,  1, 54, 56, 53, 41, 43, 43, 42,  1, 39, 52, 63,\n",
      "         1, 44, 59, 56, 58, 46, 43, 56,  6,  1, 46, 43, 39, 56,  1, 51, 43,  1,\n",
      "        57, 54, 43, 39, 49,  8,  0,  0, 13, 50, 50, 10,  0, 31, 54, 43, 39, 49,\n",
      "         6,  1, 57, 54, 43, 39, 49,  8,  0,  0, 18, 47, 56, 57, 58,  1, 15, 47,\n",
      "        58, 47, 64, 43, 52, 10,  0, 37, 53, 59,  1, 39, 56, 43,  1, 39, 50, 50,\n",
      "         1, 56, 43, 57, 53, 50, 60, 43, 42,  1, 56, 39, 58, 46, 43, 56,  1, 58,\n",
      "        53,  1, 42, 47, 43,  1, 58, 46, 39, 52,  1, 58, 53,  1, 44, 39, 51, 47,\n",
      "        57, 46, 12,  0,  0, 13, 50, 50, 10,  0, 30, 43, 57, 53, 50, 60, 43, 42,\n",
      "         8,  1, 56, 43, 57, 53, 50, 60, 43, 42,  8,  0,  0, 18, 47, 56, 57, 58,\n",
      "         1, 15, 47, 58, 47, 64, 43, 52, 10,  0, 18, 47, 56, 57, 58,  6,  1, 63,\n",
      "        53, 59,  1, 49, 52, 53, 61,  1, 15, 39, 47, 59, 57,  1, 25, 39, 56, 41,\n",
      "        47, 59, 57,  1, 47, 57,  1, 41, 46, 47, 43, 44,  1, 43, 52, 43, 51, 63,\n",
      "         1, 58, 53,  1, 58, 46, 43,  1, 54, 43, 53, 54, 50, 43,  8,  0,  0, 13,\n",
      "        50, 50, 10,  0, 35, 43,  1, 49, 52, 53, 61,  5, 58,  6,  1, 61, 43,  1,\n",
      "        49, 52, 53, 61,  5, 58,  8,  0,  0, 18, 47, 56, 57, 58,  1, 15, 47, 58,\n",
      "        47, 64, 43, 52, 10,  0, 24, 43, 58,  1, 59, 57,  1, 49, 47, 50, 50,  1,\n",
      "        46, 47, 51,  6,  1, 39, 52, 42,  1, 61, 43,  5, 50, 50,  1, 46, 39, 60,\n",
      "        43,  1, 41, 53, 56, 52,  1, 39, 58,  1, 53, 59, 56,  1, 53, 61, 52,  1,\n",
      "        54, 56, 47, 41, 43,  8,  0, 21, 57,  5, 58,  1, 39,  1, 60, 43, 56, 42,\n",
      "        47, 41, 58, 12,  0,  0, 13, 50, 50, 10,  0, 26, 53,  1, 51, 53, 56, 43,\n",
      "         1, 58, 39, 50, 49, 47, 52, 45,  1, 53, 52,  5, 58, 11,  1, 50, 43, 58,\n",
      "         1, 47, 58,  1, 40, 43,  1, 42, 53, 52, 43, 10,  1, 39, 61, 39, 63,  6,\n",
      "         1, 39, 61, 39, 63,  2,  0,  0, 31, 43, 41, 53, 52, 42,  1, 15, 47, 58,\n",
      "        47, 64, 43, 52, 10,  0, 27, 52, 43,  1, 61, 53, 56, 42,  6,  1, 45, 53,\n",
      "        53, 42,  1, 41, 47, 58, 47, 64, 43, 52, 57,  8,  0,  0, 18, 47, 56, 57,\n",
      "        58,  1, 15, 47, 58, 47, 64, 43, 52, 10,  0, 35, 43,  1, 39, 56, 43,  1,\n",
      "        39, 41, 41, 53, 59, 52, 58, 43, 42,  1, 54, 53, 53, 56,  1, 41, 47, 58,\n",
      "        47, 64, 43, 52, 57,  6,  1, 58, 46, 43,  1, 54, 39, 58, 56, 47, 41, 47,\n",
      "        39, 52, 57,  1, 45, 53, 53, 42,  8,  0, 35, 46, 39, 58,  1, 39, 59, 58,\n",
      "        46, 53, 56, 47, 58, 63,  1, 57, 59, 56, 44, 43, 47, 58, 57,  1, 53, 52,\n",
      "         1, 61, 53, 59, 50, 42,  1, 56, 43, 50, 47, 43, 60, 43,  1, 59, 57, 10,\n",
      "         1, 47, 44,  1, 58, 46, 43, 63,  0, 61, 53, 59, 50, 42,  1, 63, 47, 43,\n",
      "        50, 42,  1, 59, 57,  1, 40, 59, 58,  1, 58, 46, 43,  1, 57, 59, 54, 43,\n",
      "        56, 44, 50, 59, 47, 58, 63,  6,  1, 61, 46, 47, 50, 43,  1, 47, 58,  1,\n",
      "        61, 43, 56, 43,  0, 61, 46, 53, 50, 43, 57, 53, 51, 43,  6,  1, 61, 43,\n",
      "         1, 51, 47, 45, 46, 58,  1, 45, 59, 43, 57, 57,  1, 58, 46, 43, 63,  1,\n",
      "        56, 43, 50, 47, 43, 60, 43, 42,  1, 59, 57,  1, 46, 59, 51, 39, 52, 43,\n",
      "        50, 63, 11,  0, 40, 59, 58,  1, 58, 46, 43, 63,  1, 58, 46, 47, 52, 49,\n",
      "         1, 61, 43,  1, 39, 56, 43,  1, 58, 53, 53,  1, 42, 43, 39, 56, 10,  1,\n",
      "        58, 46, 43,  1, 50, 43, 39, 52, 52, 43, 57, 57,  1, 58, 46, 39, 58,  0,\n",
      "        39, 44, 44, 50, 47, 41, 58, 57,  1, 59, 57,  6,  1, 58, 46, 43,  1, 53,\n",
      "        40, 48, 43, 41, 58,  1, 53, 44,  1, 53, 59, 56,  1, 51, 47, 57, 43, 56,\n",
      "        63,  6,  1, 47, 57,  1, 39, 57,  1, 39, 52,  0, 47, 52, 60, 43, 52, 58,\n",
      "        53, 56, 63,  1, 58, 53,  1, 54, 39, 56, 58, 47, 41, 59, 50, 39, 56, 47,\n",
      "        57, 43,  1, 58, 46, 43, 47, 56,  1, 39, 40, 59, 52, 42, 39, 52, 41, 43,\n",
      "        11,  1, 53, 59, 56,  0, 57, 59, 44, 44, 43, 56, 39, 52, 41, 43,  1, 47,\n",
      "        57,  1, 39,  1, 45, 39, 47, 52,  1, 58, 53,  1, 58, 46, 43, 51,  1, 24,\n",
      "        43, 58,  1, 59, 57,  1, 56, 43, 60, 43, 52, 45, 43,  1, 58, 46, 47, 57,\n",
      "         1, 61, 47, 58, 46,  0, 53, 59, 56,  1, 54, 47, 49, 43, 57,  6,  1, 43,\n",
      "        56, 43,  1, 61, 43,  1, 40, 43, 41, 53, 51, 43,  1, 56, 39, 49, 43, 57,\n",
      "        10,  1, 44, 53, 56,  1, 58, 46, 43,  1, 45, 53, 42, 57,  1, 49, 52, 53,\n",
      "        61,  1, 21,  0, 57, 54, 43, 39, 49,  1, 58, 46, 47, 57,  1, 47, 52,  1,\n",
      "        46, 59, 52, 45, 43, 56,  1, 44, 53, 56,  1, 40, 56, 43, 39, 42,  6,  1,\n",
      "        52, 53, 58,  1, 47, 52,  1, 58, 46, 47, 56, 57, 58,  1, 44, 53, 56,  1,\n",
      "        56, 43, 60, 43, 52, 45, 43,  8,  0,  0])\n"
     ]
    }
   ],
   "source": [
    "import torch\n",
    "\n",
    "data = torch.tensor(encode(text), dtype = torch.long) #makes the basic datatype in pytorch, like a numpy array\n",
    "print(data.shape, data.dtype)\n",
    "print(data[:1000])"
   ]
  },
  {
   "cell_type": "markdown",
   "id": "6e4cdd49-796a-4b5d-830b-e574389c90cf",
   "metadata": {},
   "source": [
    "Split data into training and validation"
   ]
  },
  {
   "cell_type": "code",
   "execution_count": 11,
   "id": "a5d471f8-01d6-48cf-9be6-b6ce61372e94",
   "metadata": {},
   "outputs": [],
   "source": [
    "n = int(.9 * len(data))\n",
    "trainData = data[:n]\n",
    "valData = data[n:]"
   ]
  },
  {
   "cell_type": "markdown",
   "id": "3ab6194a-bb6b-4c56-835d-8a4ee52a93e9",
   "metadata": {},
   "source": [
    "Start of training"
   ]
  },
  {
   "cell_type": "code",
   "execution_count": 12,
   "id": "b1db048a-3efa-4f9e-8fad-2f3ff4cfaa01",
   "metadata": {},
   "outputs": [
    {
     "data": {
      "text/plain": [
       "tensor([18, 47, 56, 57, 58,  1, 15, 47, 58])"
      ]
     },
     "execution_count": 12,
     "metadata": {},
     "output_type": "execute_result"
    }
   ],
   "source": [
    "blockSize = 8 #maximum length of str to input into model at a time\n",
    "trainData[:blockSize + 1] #plus one because there"
   ]
  },
  {
   "cell_type": "code",
   "execution_count": 13,
   "id": "0d21a459-5c84-4a22-983f-02a9e1f4854a",
   "metadata": {},
   "outputs": [
    {
     "name": "stdout",
     "output_type": "stream",
     "text": [
      "When input is tensor([18]) the target: 18\n",
      "When input is tensor([18, 47]) the target: 47\n",
      "When input is tensor([18, 47, 56]) the target: 56\n",
      "When input is tensor([18, 47, 56, 57]) the target: 57\n",
      "When input is tensor([18, 47, 56, 57, 58]) the target: 58\n",
      "When input is tensor([18, 47, 56, 57, 58,  1]) the target: 1\n",
      "When input is tensor([18, 47, 56, 57, 58,  1, 15]) the target: 15\n",
      "When input is tensor([18, 47, 56, 57, 58,  1, 15, 47]) the target: 47\n"
     ]
    }
   ],
   "source": [
    "x = trainData[:blockSize] #inputs to the transformer (first block size chars)\n",
    "y = trainData[:blockSize + 1] #targets for each positions in the inputs\n",
    "for t in range(blockSize):\n",
    "    context = x[:t+1]\n",
    "    target = y[t]\n",
    "    print(f\"When input is {context} the target: {target}\")\n",
    "\n",
    "#transformer will never recieve more than blocksize inputs"
   ]
  },
  {
   "cell_type": "code",
   "execution_count": 14,
   "id": "65122c1e-56ba-45dd-8e7e-1fbc7c0662f5",
   "metadata": {},
   "outputs": [
    {
     "name": "stdout",
     "output_type": "stream",
     "text": [
      "inputs:\n",
      "torch.Size([4, 8])\n",
      "tensor([[46, 43, 56,  1, 44, 53, 56,  1],\n",
      "        [58, 46, 43,  1, 42, 59, 49, 43],\n",
      "        [50, 57,  6,  0, 26, 53, 58,  1],\n",
      "        [53, 56, 49,  8,  0,  0, 19, 24]])\n",
      "Targets: \n",
      "torch.Size([4, 8])\n",
      "tensor([[43, 56,  1, 44, 53, 56,  1, 43],\n",
      "        [46, 43,  1, 42, 59, 49, 43,  8],\n",
      "        [57,  6,  0, 26, 53, 58,  1, 61],\n",
      "        [56, 49,  8,  0,  0, 19, 24, 27]])\n",
      "\n",
      "--------------------------------\n",
      "When input is [46] the target: 43\n",
      "When input is [46, 43] the target: 56\n",
      "When input is [46, 43, 56] the target: 1\n",
      "When input is [46, 43, 56, 1] the target: 44\n",
      "When input is [46, 43, 56, 1, 44] the target: 53\n",
      "When input is [46, 43, 56, 1, 44, 53] the target: 56\n",
      "When input is [46, 43, 56, 1, 44, 53, 56] the target: 1\n",
      "When input is [46, 43, 56, 1, 44, 53, 56, 1] the target: 43\n",
      "When input is [58] the target: 46\n",
      "When input is [58, 46] the target: 43\n",
      "When input is [58, 46, 43] the target: 1\n",
      "When input is [58, 46, 43, 1] the target: 42\n",
      "When input is [58, 46, 43, 1, 42] the target: 59\n",
      "When input is [58, 46, 43, 1, 42, 59] the target: 49\n",
      "When input is [58, 46, 43, 1, 42, 59, 49] the target: 43\n",
      "When input is [58, 46, 43, 1, 42, 59, 49, 43] the target: 8\n",
      "When input is [50] the target: 57\n",
      "When input is [50, 57] the target: 6\n",
      "When input is [50, 57, 6] the target: 0\n",
      "When input is [50, 57, 6, 0] the target: 26\n",
      "When input is [50, 57, 6, 0, 26] the target: 53\n",
      "When input is [50, 57, 6, 0, 26, 53] the target: 58\n",
      "When input is [50, 57, 6, 0, 26, 53, 58] the target: 1\n",
      "When input is [50, 57, 6, 0, 26, 53, 58, 1] the target: 61\n",
      "When input is [53] the target: 56\n",
      "When input is [53, 56] the target: 49\n",
      "When input is [53, 56, 49] the target: 8\n",
      "When input is [53, 56, 49, 8] the target: 0\n",
      "When input is [53, 56, 49, 8, 0] the target: 0\n",
      "When input is [53, 56, 49, 8, 0, 0] the target: 19\n",
      "When input is [53, 56, 49, 8, 0, 0, 19] the target: 24\n",
      "When input is [53, 56, 49, 8, 0, 0, 19, 24] the target: 27\n"
     ]
    }
   ],
   "source": [
    "#batches, process multiple chunks independently at the same time\n",
    "torch.manual_seed(360)\n",
    "batchSize = 4    #how many sequences processed in paralel\n",
    "blockSize = 8    #max context length for predictions\n",
    "\n",
    "def getBatch(split):\n",
    "    \"\"\"\n",
    "    Function that generates a small batch of \n",
    "    data of inputs x and targets y\n",
    "    \"\"\"\n",
    "    if split == 'train':\n",
    "        data = trainData\n",
    "    else:\n",
    "        valData\n",
    "\n",
    "    ix = torch.randint(len(data) - blockSize, (batchSize,)) #4 randomly generated numbers that are offsets into the training setss\n",
    "    x = torch.stack([data[i:i + blockSize] for i in ix])\n",
    "    y = torch.stack([data[i + 1 : i + blockSize + 1] for i in ix])\n",
    "    return x, y\n",
    "\n",
    "xb, yb = getBatch('train')\n",
    "print('inputs:')\n",
    "print(xb.shape)\n",
    "print(xb)\n",
    "print('Targets: ')\n",
    "print(yb.shape)\n",
    "print(yb)\n",
    "\n",
    "print()\n",
    "print ('--------------------------------')\n",
    "\n",
    "for b in range(batchSize): # batch dimension\n",
    "    for t in range(blockSize): # time dimension\n",
    "        context = xb[b, : t+1]\n",
    "        target = yb[b,t]\n",
    "        print(f\"When input is {context.tolist()} the target: {target}\")"
   ]
  },
  {
   "cell_type": "code",
   "execution_count": 15,
   "id": "838714c5-5f0e-42f0-a4ff-54b6832b62d7",
   "metadata": {},
   "outputs": [
    {
     "name": "stdout",
     "output_type": "stream",
     "text": [
      "tensor([[46, 43, 56,  1, 44, 53, 56,  1],\n",
      "        [58, 46, 43,  1, 42, 59, 49, 43],\n",
      "        [50, 57,  6,  0, 26, 53, 58,  1],\n",
      "        [53, 56, 49,  8,  0,  0, 19, 24]])\n"
     ]
    }
   ],
   "source": [
    "print(xb) # our inpit to the transformer"
   ]
  },
  {
   "cell_type": "code",
   "execution_count": 16,
   "id": "7def8ab6-a94a-45c2-8eac-61fd5716656c",
   "metadata": {},
   "outputs": [
    {
     "name": "stdout",
     "output_type": "stream",
     "text": [
      "torch.Size([32, 65])\n",
      "tensor(4.6558, grad_fn=<NllLossBackward0>)\n",
      "\n",
      "DU'i$VEXYXFgS;xWPxFrePG;$Erj3HxEQRgtCl\n",
      "\n",
      "QujbwQUuBW bGKXJN$IDAJ lPd$EJFbQFfkT:;AQEadXR:UuJSeKwQyQIDBR\n"
     ]
    }
   ],
   "source": [
    "import torch\n",
    "import torch.nn as nn\n",
    "from torch.nn import functional as F\n",
    "\n",
    "torch.manual_seed(360)\n",
    "\n",
    "\"\"\"\n",
    "B: Batch size. This is the number of sequences processed in parallel during training or inference. The number of sequences in a single batch.\n",
    "\n",
    "T: Time steps. This is the length of each sequence or the number of tokens in each sequence. Often corresponds to the number of words or characters in a sequence.\n",
    "\n",
    "C: Channel size. This is the size of the embedding for each token in the sequence. Csorresponds to the vocabulary size because the embeddings are of size vocabSize.\n",
    "\"\"\"\n",
    "\n",
    "class BigramLanguageModel(nn.Module): #simplest language model\n",
    "\n",
    "    def __init__(self, vocabSize):\n",
    "        super().__init__()\n",
    "        #token directly reads off the logits for the next token from a lookup table\n",
    "        self.token_embedding_table = nn.Embedding(vocabSize, vocabSize)\n",
    "\n",
    "    def forward(self, idx, targets=None):\n",
    "        #idx and targets are both (B,T) tensor of integers\n",
    "        logits = self.token_embedding_table(idx) #(Batch, Time, Channel (vocabSize))\n",
    "        #logits = scores for next char in the series\n",
    "\n",
    "        #transform logits, targets shape to better conform to what pytorch expects \n",
    "        if targets is None:\n",
    "            loss = None\n",
    "        else:\n",
    "            B, T, C = logits.shape\n",
    "            logits = logits.view(B*T, C)\n",
    "            targets = targets.view(B*T)\n",
    "            # - log likelihood loss (cross-entropy)\n",
    "            loss = F.cross_entropy(logits, targets)\n",
    "        \n",
    "        return logits, loss\n",
    "\n",
    "    #history is not used right now, but will be used later\n",
    "    def generate(self, idx, maxNewTokens):\n",
    "        #idx is (B, T) array of indices in curr context\n",
    "        for _ in range(maxNewTokens):\n",
    "            logits, loss = self(idx) # get the new preds (logits)\n",
    "            logits = logits[:, -1, :] #transforms from B, C to B, T, C\n",
    "            probs = F.softmax(logits, dim=-1) #apply softmax to get probs\n",
    "            idxNext = torch.multinomial(probs, num_samples = 1) # sample from the distr (B, 1)\n",
    "            idx = torch.cat((idx, idxNext), dim=1) #append samled index to running seq(B, T + 1)\n",
    "        return idx\n",
    "\n",
    "m = BigramLanguageModel(vocabSize)\n",
    "logits, loss = m(xb, yb)\n",
    "print(logits.shape)\n",
    "print(loss)\n",
    "\n",
    "idx = torch.zeros((1, 1), dtype = torch.long) #creating  a tensore (batch = 1x time = 1), initialized with 0\n",
    "print(decode(m.generate(idx, maxNewTokens=100)[0].tolist())) # asking for 100 tokens"
   ]
  },
  {
   "cell_type": "markdown",
   "id": "38abfec5-f106-448b-a409-ed64673fee4d",
   "metadata": {},
   "source": [
    "Output is really bad because this a totally random model, now train this models"
   ]
  },
  {
   "cell_type": "code",
   "execution_count": 17,
   "id": "e07f68f8-3293-4172-b886-d4130fb43b21",
   "metadata": {},
   "outputs": [],
   "source": [
    "#create a pytorch optimzer\n",
    "optimizer = torch.optim.AdamW(m.parameters(), lr=1e-3) #AdamW as opposed to SGD, more advanced and popular"
   ]
  },
  {
   "cell_type": "code",
   "execution_count": 18,
   "id": "d0068145-a6ce-40bd-91ec-cbc9131f7dda",
   "metadata": {},
   "outputs": [
    {
     "name": "stdout",
     "output_type": "stream",
     "text": [
      "2.3918263912200928\n"
     ]
    }
   ],
   "source": [
    "batchSize = 32\n",
    "for steps in range(10000):\n",
    "\n",
    "    #sample a batch of data\n",
    "    xb, yb = getBatch('train')\n",
    "    logits, loss = m(xb, yb)\n",
    "    optimizer.zero_grad(set_to_none=True)\n",
    "    loss.backward()\n",
    "    optimizer.step()\n",
    "\n",
    "print(loss.item())"
   ]
  },
  {
   "cell_type": "code",
   "execution_count": 19,
   "id": "6d4fc844-5552-4e12-9844-e0c90dce4072",
   "metadata": {},
   "outputs": [
    {
     "name": "stdout",
     "output_type": "stream",
     "text": [
      "\n",
      "\n",
      "And ngmio O:\n",
      "MENard on, d nt oriver brre thouriinde thomepldos g s llang our thond te\n",
      "Fisthy.\n",
      "HENTUCA:\n",
      "MNIIOUSThilai-alyond al'dot ferafaind he, r an as! thelll!\n",
      "INGS:\n",
      "\n",
      "Hor, pet fig y ls wr s,\n",
      "has bl EDE:\n",
      "s ises:\n",
      "\n",
      "f keh sck howitiders LOfat thisewive heshanar llincark intoun, The ireshe chepus\n",
      "TRCKllle mu; de, gaus then,\n",
      "Card nexd olllil thanowfaput sthe, nghyrmy evess, athakeveady d 'd\n",
      "MEOnde at\n"
     ]
    }
   ],
   "source": [
    "idx = torch.zeros((1, 1), dtype = torch.long) #creating  a tensore (batch = 1x time = 1), initialized with 0\n",
    "print(decode(m.generate(idx, maxNewTokens=400)[0].tolist())) # asking for 100 tokens"
   ]
  },
  {
   "cell_type": "markdown",
   "id": "eca9b83f-2b65-4cdf-a98c-f7e698242294",
   "metadata": {},
   "source": [
    "The mathematical trick in self-attention"
   ]
  },
  {
   "cell_type": "code",
   "execution_count": 21,
   "id": "4c71ddda-668e-45e8-82eb-3b2b3dcefbd9",
   "metadata": {},
   "outputs": [
    {
     "data": {
      "text/plain": [
       "torch.Size([4, 8, 2])"
      ]
     },
     "execution_count": 21,
     "metadata": {},
     "output_type": "execute_result"
    }
   ],
   "source": [
    "#toy examples\n",
    "\n",
    "torch.manual_seed(1337)\n",
    "B, T, C = 4, 8, 2\n",
    "x = torch.randn(B,T,C)\n",
    "x.shape"
   ]
  },
  {
   "cell_type": "markdown",
   "id": "04310be1-32df-442d-977d-7590c37dd5ce",
   "metadata": {},
   "source": [
    "Want to couple tokens with those behind it\n",
    "- For every t_th token, average the vectors of those behind it"
   ]
  },
  {
   "cell_type": "code",
   "execution_count": 24,
   "id": "4f00629e-adfe-45fa-8b82-f62bcae099f2",
   "metadata": {},
   "outputs": [],
   "source": [
    "xbow = torch.zeros((B,T,C)) # x bag of words (used for averaging)\n",
    "for b in range(B):\n",
    "    for t in range(T):\n",
    "        xprev = x[b,:t+1] #(t,C)\n",
    "        xbow[b, t] = torch.mean(xprev, 0)"
   ]
  },
  {
   "cell_type": "code",
   "execution_count": 35,
   "id": "97d32591-88a9-4f80-b758-b2a1f073a011",
   "metadata": {},
   "outputs": [
    {
     "data": {
      "text/plain": [
       "tensor([[1., 0., 0., 0., 0., 0., 0., 0.],\n",
       "        [1., 1., 0., 0., 0., 0., 0., 0.],\n",
       "        [1., 1., 1., 0., 0., 0., 0., 0.],\n",
       "        [1., 1., 1., 1., 0., 0., 0., 0.],\n",
       "        [1., 1., 1., 1., 1., 0., 0., 0.],\n",
       "        [1., 1., 1., 1., 1., 1., 0., 0.],\n",
       "        [1., 1., 1., 1., 1., 1., 1., 0.],\n",
       "        [1., 1., 1., 1., 1., 1., 1., 1.]])"
      ]
     },
     "execution_count": 35,
     "metadata": {},
     "output_type": "execute_result"
    }
   ],
   "source": [
    "tril"
   ]
  },
  {
   "cell_type": "code",
   "execution_count": 38,
   "id": "39d5585a-3c7f-4440-9f56-e17adabb07b6",
   "metadata": {},
   "outputs": [
    {
     "data": {
      "text/plain": [
       "tensor([[1.0000, 0.0000, 0.0000, 0.0000, 0.0000, 0.0000, 0.0000, 0.0000],\n",
       "        [0.5000, 0.5000, 0.0000, 0.0000, 0.0000, 0.0000, 0.0000, 0.0000],\n",
       "        [0.3333, 0.3333, 0.3333, 0.0000, 0.0000, 0.0000, 0.0000, 0.0000],\n",
       "        [0.2500, 0.2500, 0.2500, 0.2500, 0.0000, 0.0000, 0.0000, 0.0000],\n",
       "        [0.2000, 0.2000, 0.2000, 0.2000, 0.2000, 0.0000, 0.0000, 0.0000],\n",
       "        [0.1667, 0.1667, 0.1667, 0.1667, 0.1667, 0.1667, 0.0000, 0.0000],\n",
       "        [0.1429, 0.1429, 0.1429, 0.1429, 0.1429, 0.1429, 0.1429, 0.0000],\n",
       "        [0.1250, 0.1250, 0.1250, 0.1250, 0.1250, 0.1250, 0.1250, 0.1250]])"
      ]
     },
     "execution_count": 38,
     "metadata": {},
     "output_type": "execute_result"
    }
   ],
   "source": [
    "wei = torch.zeros((T, T))\n",
    "wei = wei.masked_fill(tril == 0, float('-inf'))\n",
    "wei = F.softmax(wei, dim=-1)\n",
    "wei"
   ]
  },
  {
   "cell_type": "markdown",
   "id": "638fad5d-662c-47f1-885a-278fdfaec24f",
   "metadata": {},
   "source": [
    "Making weighted aggregations of past elementss"
   ]
  },
  {
   "cell_type": "code",
   "execution_count": null,
   "id": "63315734-7969-4654-902f-e0f5aefe0f1e",
   "metadata": {},
   "outputs": [],
   "source": [
    "#usign softmax\n",
    "tril = torch.tril(torch.ones(T, T)) #weights, but all weights are 1/0\n",
    "wei = torch.zeros((T, T))\n",
    "wei = wei.masked_fill(tril == 0, float('-inf')) #making sure tokens from the past can't communitcate\n",
    "wei = F.softmax(wei, dim=-1)\n",
    "xbow3 = wei @ x #(B, T, T) @ (B, T, C) ---> (B, T, C)\n",
    "torch.allclose(xbow, xbow3)"
   ]
  },
  {
   "cell_type": "code",
   "execution_count": null,
   "id": "2e67a7a7-ccd1-4463-a3b5-3a911f91590b",
   "metadata": {},
   "outputs": [],
   "source": [
    "wei = torch.zeros((T, T))\n",
    "wei = wei.masked_fill(tril == 0, float('-inf'))"
   ]
  },
  {
   "cell_type": "code",
   "execution_count": 30,
   "id": "b5424f39-da36-45b2-985d-6008e4bae111",
   "metadata": {},
   "outputs": [
    {
     "data": {
      "text/plain": [
       "(tensor([[ 0.1808, -0.0700],\n",
       "         [-0.0894, -0.4926],\n",
       "         [ 0.1490, -0.3199],\n",
       "         [ 0.3504, -0.2238],\n",
       "         [ 0.3525,  0.0545],\n",
       "         [ 0.0688, -0.0396],\n",
       "         [ 0.0927, -0.0682],\n",
       "         [-0.0341,  0.1332]]),\n",
       " tensor([[ 0.1808, -0.0700],\n",
       "         [-0.0894, -0.4926],\n",
       "         [ 0.1490, -0.3199],\n",
       "         [ 0.3504, -0.2238],\n",
       "         [ 0.3525,  0.0545],\n",
       "         [ 0.0688, -0.0396],\n",
       "         [ 0.0927, -0.0682],\n",
       "         [-0.0341,  0.1332]]))"
      ]
     },
     "execution_count": 30,
     "metadata": {},
     "output_type": "execute_result"
    }
   ],
   "source": [
    "xbow[0], xbow2[0]"
   ]
  },
  {
   "cell_type": "code",
   "execution_count": 25,
   "id": "71c3a564-a9b7-46e3-99da-02ef24a2773e",
   "metadata": {},
   "outputs": [
    {
     "data": {
      "text/plain": [
       "tensor([[ 0.1808, -0.0700],\n",
       "        [-0.3596, -0.9152],\n",
       "        [ 0.6258,  0.0255],\n",
       "        [ 0.9545,  0.0643],\n",
       "        [ 0.3612,  1.1679],\n",
       "        [-1.3499, -0.5102],\n",
       "        [ 0.2360, -0.2398],\n",
       "        [-0.9211,  1.5433]])"
      ]
     },
     "execution_count": 25,
     "metadata": {},
     "output_type": "execute_result"
    }
   ],
   "source": [
    "x[0]"
   ]
  },
  {
   "cell_type": "code",
   "execution_count": 26,
   "id": "416430dc-5311-4ee1-b601-25ff6fc54974",
   "metadata": {},
   "outputs": [
    {
     "data": {
      "text/plain": [
       "tensor([[ 0.1808, -0.0700],\n",
       "        [-0.0894, -0.4926],\n",
       "        [ 0.1490, -0.3199],\n",
       "        [ 0.3504, -0.2238],\n",
       "        [ 0.3525,  0.0545],\n",
       "        [ 0.0688, -0.0396],\n",
       "        [ 0.0927, -0.0682],\n",
       "        [-0.0341,  0.1332]])"
      ]
     },
     "execution_count": 26,
     "metadata": {},
     "output_type": "execute_result"
    }
   ],
   "source": [
    "xbow[0]"
   ]
  },
  {
   "cell_type": "code",
   "execution_count": 27,
   "id": "e4c1ef42-7973-43ff-bd11-891e9c2a0ef3",
   "metadata": {},
   "outputs": [
    {
     "name": "stdout",
     "output_type": "stream",
     "text": [
      "tensor([[ 2.,  7.],\n",
      "        [ 8., 11.],\n",
      "        [14., 16.]])\n"
     ]
    }
   ],
   "source": [
    "torch.manual_seed(42)\n",
    "a = torch.tril(torch.ones(3, 3))\n",
    "b = torch.randint(0, 10, (3, 2)).float()\n",
    "c = a @ b\n",
    "print(c)\n",
    "\n",
    "#the lower triangular matrix of all 1s muiltiplied by b gives a matrix w sums"
   ]
  },
  {
   "cell_type": "code",
   "execution_count": 45,
   "id": "28d6c525-d188-469f-b277-6a831c530e56",
   "metadata": {},
   "outputs": [
    {
     "data": {
      "text/plain": [
       "torch.Size([4, 8, 16])"
      ]
     },
     "execution_count": 45,
     "metadata": {},
     "output_type": "execute_result"
    }
   ],
   "source": [
    "torch.manual_seed(1337)\n",
    "B, T, C = 4, 8, 32\n",
    "x = torch.randn(B,T,C)\n",
    "\n",
    "#single head performing self-attention\n",
    "headSize = 16\n",
    "key = nn.Linear(C, headSize, bias=False)\n",
    "query = nn.Linear(C, headSize, bias=False)\n",
    "value = nn.Linear(C, headSize, bias=False)\n",
    "k = key(x) # (B, T, 16(headSize))\n",
    "q = query(x) #(B, T, 16(headSize))\n",
    "\n",
    "#no communication has happened yet, now time for communication\n",
    "wei = q @ k.transpose(-2, -1) # (B, T, 16) \n",
    "\n",
    "tril = torch.tril(torch.ones(T, T)) #weights, but all weights are 1/0\n",
    "# wei = torch.zeros((T, T))\n",
    "wei = wei.masked_fill(tril == 0, float('-inf')) #making sure tokens from the past can't communitcate\n",
    "wei = F.softmax(wei, dim=-1)\n",
    "\n",
    "v = value(x)\n",
    "out = wei @ v #(B, T, T) @ (B, T, C) ---> (B, T, 16) @ (B, 16, T) --> (B, T, T)\n",
    "\n",
    "out.shape"
   ]
  },
  {
   "cell_type": "code",
   "execution_count": 43,
   "id": "416ba6f5-79da-4c3d-9ef4-41efe92ca300",
   "metadata": {},
   "outputs": [
    {
     "data": {
      "text/plain": [
       "tensor([[[1.0000e+00, 0.0000e+00, 0.0000e+00, 0.0000e+00, 0.0000e+00,\n",
       "          0.0000e+00, 0.0000e+00, 0.0000e+00],\n",
       "         [5.5992e-01, 4.4008e-01, 0.0000e+00, 0.0000e+00, 0.0000e+00,\n",
       "          0.0000e+00, 0.0000e+00, 0.0000e+00],\n",
       "         [3.2197e-01, 2.0162e-01, 4.7641e-01, 0.0000e+00, 0.0000e+00,\n",
       "          0.0000e+00, 0.0000e+00, 0.0000e+00],\n",
       "         [1.6397e-01, 8.1458e-02, 2.9607e-01, 4.5850e-01, 0.0000e+00,\n",
       "          0.0000e+00, 0.0000e+00, 0.0000e+00],\n",
       "         [2.0508e-01, 3.0070e-01, 1.8936e-01, 1.8076e-01, 1.2409e-01,\n",
       "          0.0000e+00, 0.0000e+00, 0.0000e+00],\n",
       "         [6.0019e-02, 1.2732e-01, 2.9082e-02, 1.6934e-02, 5.5211e-02,\n",
       "          7.1144e-01, 0.0000e+00, 0.0000e+00],\n",
       "         [1.4085e-01, 1.0251e-01, 1.7444e-01, 2.0379e-01, 1.6895e-01,\n",
       "          6.6888e-02, 1.4256e-01, 0.0000e+00],\n",
       "         [2.2274e-02, 1.0857e-01, 8.2257e-03, 4.0053e-03, 8.0379e-03,\n",
       "          7.2572e-01, 2.1608e-02, 1.0156e-01]],\n",
       "\n",
       "        [[1.0000e+00, 0.0000e+00, 0.0000e+00, 0.0000e+00, 0.0000e+00,\n",
       "          0.0000e+00, 0.0000e+00, 0.0000e+00],\n",
       "         [5.6341e-01, 4.3659e-01, 0.0000e+00, 0.0000e+00, 0.0000e+00,\n",
       "          0.0000e+00, 0.0000e+00, 0.0000e+00],\n",
       "         [2.3584e-05, 5.7957e-04, 9.9940e-01, 0.0000e+00, 0.0000e+00,\n",
       "          0.0000e+00, 0.0000e+00, 0.0000e+00],\n",
       "         [4.4921e-01, 5.1881e-02, 8.3314e-04, 4.9807e-01, 0.0000e+00,\n",
       "          0.0000e+00, 0.0000e+00, 0.0000e+00],\n",
       "         [2.8701e-01, 1.7659e-01, 1.3527e-02, 4.8270e-01, 4.0184e-02,\n",
       "          0.0000e+00, 0.0000e+00, 0.0000e+00],\n",
       "         [4.5855e-03, 2.5295e-02, 7.5565e-01, 4.0646e-03, 2.3923e-02,\n",
       "          1.8648e-01, 0.0000e+00, 0.0000e+00],\n",
       "         [2.8994e-01, 1.2594e-01, 9.4294e-03, 4.0798e-01, 5.4164e-02,\n",
       "          1.9184e-02, 9.3367e-02, 0.0000e+00],\n",
       "         [2.4953e-01, 3.9061e-02, 7.7694e-03, 1.5176e-01, 2.8757e-01,\n",
       "          3.3437e-02, 1.9986e-01, 3.1018e-02]],\n",
       "\n",
       "        [[1.0000e+00, 0.0000e+00, 0.0000e+00, 0.0000e+00, 0.0000e+00,\n",
       "          0.0000e+00, 0.0000e+00, 0.0000e+00],\n",
       "         [9.1319e-02, 9.0868e-01, 0.0000e+00, 0.0000e+00, 0.0000e+00,\n",
       "          0.0000e+00, 0.0000e+00, 0.0000e+00],\n",
       "         [5.2471e-01, 2.4614e-01, 2.2915e-01, 0.0000e+00, 0.0000e+00,\n",
       "          0.0000e+00, 0.0000e+00, 0.0000e+00],\n",
       "         [2.8598e-01, 2.4318e-02, 9.6603e-02, 5.9310e-01, 0.0000e+00,\n",
       "          0.0000e+00, 0.0000e+00, 0.0000e+00],\n",
       "         [2.0408e-01, 1.5273e-01, 2.5722e-01, 2.2652e-01, 1.5944e-01,\n",
       "          0.0000e+00, 0.0000e+00, 0.0000e+00],\n",
       "         [3.3630e-02, 5.5708e-01, 2.4292e-01, 1.5226e-02, 3.0692e-02,\n",
       "          1.2045e-01, 0.0000e+00, 0.0000e+00],\n",
       "         [1.3485e-01, 4.2347e-03, 1.9686e-02, 3.6784e-01, 1.1159e-01,\n",
       "          1.4660e-02, 3.4714e-01, 0.0000e+00],\n",
       "         [1.3658e-01, 6.5450e-02, 1.2612e-01, 1.7196e-01, 1.0809e-01,\n",
       "          5.6305e-02, 2.1627e-01, 1.1923e-01]],\n",
       "\n",
       "        [[1.0000e+00, 0.0000e+00, 0.0000e+00, 0.0000e+00, 0.0000e+00,\n",
       "          0.0000e+00, 0.0000e+00, 0.0000e+00],\n",
       "         [6.3775e-01, 3.6225e-01, 0.0000e+00, 0.0000e+00, 0.0000e+00,\n",
       "          0.0000e+00, 0.0000e+00, 0.0000e+00],\n",
       "         [2.5330e-04, 4.5811e-04, 9.9929e-01, 0.0000e+00, 0.0000e+00,\n",
       "          0.0000e+00, 0.0000e+00, 0.0000e+00],\n",
       "         [7.3558e-03, 2.3758e-03, 8.1862e-09, 9.9027e-01, 0.0000e+00,\n",
       "          0.0000e+00, 0.0000e+00, 0.0000e+00],\n",
       "         [5.7524e-02, 3.2187e-02, 2.8605e-05, 8.8712e-01, 2.3138e-02,\n",
       "          0.0000e+00, 0.0000e+00, 0.0000e+00],\n",
       "         [1.4739e-01, 1.0463e-01, 3.0916e-03, 5.8233e-01, 1.0945e-01,\n",
       "          5.3110e-02, 0.0000e+00, 0.0000e+00],\n",
       "         [1.6032e-01, 1.1146e-01, 1.3385e-02, 3.6941e-01, 2.1734e-01,\n",
       "          9.1402e-02, 3.6685e-02, 0.0000e+00],\n",
       "         [5.5378e-02, 2.8279e-02, 2.8621e-05, 8.1604e-01, 3.1016e-02,\n",
       "          7.5074e-03, 8.4602e-03, 5.3294e-02]]], grad_fn=<SoftmaxBackward0>)"
      ]
     },
     "execution_count": 43,
     "metadata": {},
     "output_type": "execute_result"
    }
   ],
   "source": [
    "wei"
   ]
  },
  {
   "cell_type": "code",
   "execution_count": null,
   "id": "953e4103-df8d-4185-9a09-24f55fd23f02",
   "metadata": {},
   "outputs": [],
   "source": []
  }
 ],
 "metadata": {
  "kernelspec": {
   "display_name": "Python 3 (ipykernel)",
   "language": "python",
   "name": "python3"
  },
  "language_info": {
   "codemirror_mode": {
    "name": "ipython",
    "version": 3
   },
   "file_extension": ".py",
   "mimetype": "text/x-python",
   "name": "python",
   "nbconvert_exporter": "python",
   "pygments_lexer": "ipython3",
   "version": "3.11.8"
  }
 },
 "nbformat": 4,
 "nbformat_minor": 5
}
